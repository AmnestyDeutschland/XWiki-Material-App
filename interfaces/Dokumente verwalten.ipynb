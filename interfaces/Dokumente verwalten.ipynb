{
 "cells": [
  {
   "cell_type": "code",
   "execution_count": 78,
   "metadata": {},
   "outputs": [],
   "source": [
    "import os\n",
    "import pandas as pd\n",
    "\n",
    "filepath = \"Dokumente/MK Protokolle und Beschlüsse/\"\n",
    "outname = \"MK protokolle.csv\"\n",
    "webfilename = \"protokolle-und-beschluesse.html\"\n",
    "standardtyp = \"protokoll\" # leitfaden,antrag,bericht,beschluss,formular,diagramm,praesentation,protokoll,tagesordnung,sonstige\n",
    "schutz = \"private\" #public\n",
    "doclist = os.listdir(filepath)\n",
    "with open(filepath+webfilename) as f:\n",
    "    webfile = f.read()"
   ]
  },
  {
   "cell_type": "code",
   "execution_count": 79,
   "metadata": {},
   "outputs": [],
   "source": [
    "fulllist = {\"Dateiname\": [], \"Titel\": [], \"Kurzbeschreibung\": [], \"Beschreibung\": [], \"Format\": [], \"Autor\": [], \"Version\": [], \"Datum\": [], \"Typ\": [], \"Index\": [], \"Schutzgrad\": []}"
   ]
  },
  {
   "cell_type": "code",
   "execution_count": 80,
   "metadata": {},
   "outputs": [],
   "source": [
    "for fname in doclist:\n",
    "    if fname.find(\"html\")<0 and fname.find(\"csv\")<0:\n",
    "        start = webfile.find(fname)\n",
    "        beschreibung = webfile[webfile.find(\">\",start)+1:webfile.find(\"<\",start)]\n",
    "        if len(beschreibung) < 3:\n",
    "            nextstart = webfile.find(\"<span\", start)+1\n",
    "            beschreibung = webfile[webfile.find(\">\", nextstart)+1:webfile.find(\"<\", nextstart)]\n",
    "        fulllist[\"Titel\"].append(beschreibung)\n",
    "        fulllist[\"Dateiname\"].append(fname)\n",
    "        fulllist[\"Typ\"].append(standardtyp)\n",
    "        fulllist[\"Schutzgrad\"].append(schutz)\n",
    "        dformat = \"pdf\"\n",
    "        if fname.split(\".\")[1] in [\"xls\", \"doc\", \"docx\", \"ppt\", \"pptx\", \"xlsx\", \"odt\"]:\n",
    "            dformat = \"office\"\n",
    "        if fname.split(\".\")[1] in [\"jpeg\", \"jpg\", \"png\"]:\n",
    "            dformat = \"bild\"\n",
    "        fulllist[\"Format\"].append(dformat)\n",
    "        \n",
    "for key in fulllist:\n",
    "    if len(fulllist[key])<1:\n",
    "        fulllist[key] = len(fulllist[\"Dateiname\"])*[\"\"]"
   ]
  },
  {
   "cell_type": "code",
   "execution_count": 81,
   "metadata": {},
   "outputs": [],
   "source": [
    "pd.DataFrame(fulllist).to_csv((filepath+outname))"
   ]
  },
  {
   "cell_type": "code",
   "execution_count": null,
   "metadata": {},
   "outputs": [],
   "source": []
  },
  {
   "cell_type": "code",
   "execution_count": null,
   "metadata": {},
   "outputs": [],
   "source": []
  }
 ],
 "metadata": {
  "kernelspec": {
   "display_name": "Python 3",
   "language": "python",
   "name": "python3"
  },
  "language_info": {
   "codemirror_mode": {
    "name": "ipython",
    "version": 3
   },
   "file_extension": ".py",
   "mimetype": "text/x-python",
   "name": "python",
   "nbconvert_exporter": "python",
   "pygments_lexer": "ipython3",
   "version": "3.6.9"
  }
 },
 "nbformat": 4,
 "nbformat_minor": 4
}
